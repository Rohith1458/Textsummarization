{
  "nbformat": 4,
  "nbformat_minor": 0,
  "metadata": {
    "colab": {
      "provenance": []
    },
    "kernelspec": {
      "name": "python3",
      "display_name": "Python 3"
    },
    "language_info": {
      "name": "python"
    }
  },
  "cells": [
    {
      "cell_type": "code",
      "execution_count": 1,
      "metadata": {
        "colab": {
          "base_uri": "https://localhost:8080/"
        },
        "id": "TpGzA7xHTley",
        "outputId": "e10d9a53-fbca-4a94-ddbc-7135631489d5"
      },
      "outputs": [
        {
          "output_type": "stream",
          "name": "stdout",
          "text": [
            "Requirement already satisfied: gensim in /usr/local/lib/python3.10/dist-packages (4.3.3)\n",
            "Requirement already satisfied: numpy<2.0,>=1.18.5 in /usr/local/lib/python3.10/dist-packages (from gensim) (1.26.4)\n",
            "Requirement already satisfied: scipy<1.14.0,>=1.7.0 in /usr/local/lib/python3.10/dist-packages (from gensim) (1.13.1)\n",
            "Requirement already satisfied: smart-open>=1.8.1 in /usr/local/lib/python3.10/dist-packages (from gensim) (7.0.4)\n",
            "Requirement already satisfied: wrapt in /usr/local/lib/python3.10/dist-packages (from smart-open>=1.8.1->gensim) (1.16.0)\n"
          ]
        }
      ],
      "source": [
        "pip install gensim"
      ]
    },
    {
      "cell_type": "code",
      "source": [
        "pip install nltk"
      ],
      "metadata": {
        "colab": {
          "base_uri": "https://localhost:8080/"
        },
        "id": "lqogLp5GTzXZ",
        "outputId": "7b4b958a-7e48-4625-c614-9ebe770a6b55"
      },
      "execution_count": 3,
      "outputs": [
        {
          "output_type": "stream",
          "name": "stdout",
          "text": [
            "Requirement already satisfied: nltk in /usr/local/lib/python3.10/dist-packages (3.8.1)\n",
            "Requirement already satisfied: click in /usr/local/lib/python3.10/dist-packages (from nltk) (8.1.7)\n",
            "Requirement already satisfied: joblib in /usr/local/lib/python3.10/dist-packages (from nltk) (1.4.2)\n",
            "Requirement already satisfied: regex>=2021.8.3 in /usr/local/lib/python3.10/dist-packages (from nltk) (2024.5.15)\n",
            "Requirement already satisfied: tqdm in /usr/local/lib/python3.10/dist-packages (from nltk) (4.66.5)\n"
          ]
        }
      ]
    },
    {
      "cell_type": "code",
      "source": [
        "import nltk\n",
        "from nltk.corpus import stopwords\n",
        "from nltk.tokenize import word_tokenize, sent_tokenize\n",
        "import heapq\n",
        "\n",
        "# Download the necessary NLTK data\n",
        "nltk.download('punkt')\n",
        "nltk.download('stopwords')\n",
        "\n",
        "def summarize_text(text, summary_length=2):\n",
        "    sentences = sent_tokenize(text)\n",
        "    stop_words = set(stopwords.words('english'))\n",
        "    word_frequencies = {}\n",
        "    for word in word_tokenize(text):\n",
        "        if word.lower() not in stop_words:\n",
        "            if word not in word_frequencies:\n",
        "                word_frequencies[word] = 1\n",
        "            else:\n",
        "                word_frequencies[word] += 1\n",
        "\n",
        "    max_frequency = max(word_frequencies.values())\n",
        "    for word in word_frequencies:\n",
        "        word_frequencies[word] = word_frequencies[word] / max_frequency\n",
        "    sentence_scores = {}\n",
        "    for sent in sentences:\n",
        "        for word in word_tokenize(sent.lower()):\n",
        "            if word in word_frequencies:\n",
        "                if len(sent.split(' ')) < 30:\n",
        "                    if sent not in sentence_scores:\n",
        "                        sentence_scores[sent] = word_frequencies[word]\n",
        "                    else:\n",
        "                        sentence_scores[sent] += word_frequencies[word]\n",
        "\n",
        "    summary_sentences = heapq.nlargest(summary_length, sentence_scores, key=sentence_scores.get)\n",
        "    summary = ' '.join(summary_sentences)\n",
        "    return summary\n",
        "\n",
        "text = \"\"\"\n",
        "Artificial Intelligence (AI) is a rapidly advancing field of computer science concerned with building smart machines capable of performing tasks that typically require human intelligence. AI is an interdisciplinary field, drawing on insights from mathematics, computer science, psychology, neuroscience, cognitive science, linguistics, operations research, economics, and many other disciplines. Research in AI has produced numerous advances in areas such as reasoning, knowledge representation, natural language processing, perception, and the ability to move and manipulate objects. AI can be categorized into narrow AI, which is designed for a specific task, and general AI, which has the ability to perform any intellectual task that a human can do. While narrow AI is already prevalent in various applications, general AI remains a long-term goal. AI has the potential to revolutionize industries, but it also raises ethical concerns regarding privacy, employment, and the impact on society.\n",
        "\"\"\"\n",
        "def print_summary_in_lines(summary):\n",
        "    sentences = summary.split('. ')\n",
        "    for sentence in sentences:\n",
        "        print(sentence.strip() + '.')\n",
        "summary = summarize_text(text, summary_length=2)\n",
        "print(\"Original Text Length:\", len(text.split()))\n",
        "print(\"Summary Text Length:\", len(summary.split()))\n",
        "#print(\"\\nSummary:\\n\", summary)\n",
        "print(\"Summary in new line\\n\")\n",
        "print_summary_in_lines(summary)"
      ],
      "metadata": {
        "id": "18KxE6tQUaAH",
        "outputId": "abec9922-815c-4bac-bd72-2c50f5de4924",
        "colab": {
          "base_uri": "https://localhost:8080/"
        }
      },
      "execution_count": 8,
      "outputs": [
        {
          "output_type": "stream",
          "name": "stdout",
          "text": [
            "Original Text Length: 142\n",
            "Summary Text Length: 50\n",
            "Summary in new line\n",
            "\n",
            "AI is an interdisciplinary field, drawing on insights from mathematics, computer science, psychology, neuroscience, cognitive science, linguistics, operations research, economics, and many other disciplines.\n",
            "Research in AI has produced numerous advances in areas such as reasoning, knowledge representation, natural language processing, perception, and the ability to move and manipulate objects..\n"
          ]
        },
        {
          "output_type": "stream",
          "name": "stderr",
          "text": [
            "[nltk_data] Downloading package punkt to /root/nltk_data...\n",
            "[nltk_data]   Package punkt is already up-to-date!\n",
            "[nltk_data] Downloading package stopwords to /root/nltk_data...\n",
            "[nltk_data]   Package stopwords is already up-to-date!\n"
          ]
        }
      ]
    },
    {
      "cell_type": "code",
      "source": [
        "pip install transformers"
      ],
      "metadata": {
        "id": "Rs5MLP_BVK2t",
        "outputId": "348c8861-7950-4e5a-9ca2-aaea418034b7",
        "colab": {
          "base_uri": "https://localhost:8080/"
        }
      },
      "execution_count": 5,
      "outputs": [
        {
          "output_type": "stream",
          "name": "stdout",
          "text": [
            "Requirement already satisfied: transformers in /usr/local/lib/python3.10/dist-packages (4.42.4)\n",
            "Requirement already satisfied: filelock in /usr/local/lib/python3.10/dist-packages (from transformers) (3.15.4)\n",
            "Requirement already satisfied: huggingface-hub<1.0,>=0.23.2 in /usr/local/lib/python3.10/dist-packages (from transformers) (0.23.5)\n",
            "Requirement already satisfied: numpy<2.0,>=1.17 in /usr/local/lib/python3.10/dist-packages (from transformers) (1.26.4)\n",
            "Requirement already satisfied: packaging>=20.0 in /usr/local/lib/python3.10/dist-packages (from transformers) (24.1)\n",
            "Requirement already satisfied: pyyaml>=5.1 in /usr/local/lib/python3.10/dist-packages (from transformers) (6.0.2)\n",
            "Requirement already satisfied: regex!=2019.12.17 in /usr/local/lib/python3.10/dist-packages (from transformers) (2024.5.15)\n",
            "Requirement already satisfied: requests in /usr/local/lib/python3.10/dist-packages (from transformers) (2.32.3)\n",
            "Requirement already satisfied: safetensors>=0.4.1 in /usr/local/lib/python3.10/dist-packages (from transformers) (0.4.4)\n",
            "Requirement already satisfied: tokenizers<0.20,>=0.19 in /usr/local/lib/python3.10/dist-packages (from transformers) (0.19.1)\n",
            "Requirement already satisfied: tqdm>=4.27 in /usr/local/lib/python3.10/dist-packages (from transformers) (4.66.5)\n",
            "Requirement already satisfied: fsspec>=2023.5.0 in /usr/local/lib/python3.10/dist-packages (from huggingface-hub<1.0,>=0.23.2->transformers) (2024.6.1)\n",
            "Requirement already satisfied: typing-extensions>=3.7.4.3 in /usr/local/lib/python3.10/dist-packages (from huggingface-hub<1.0,>=0.23.2->transformers) (4.12.2)\n",
            "Requirement already satisfied: charset-normalizer<4,>=2 in /usr/local/lib/python3.10/dist-packages (from requests->transformers) (3.3.2)\n",
            "Requirement already satisfied: idna<4,>=2.5 in /usr/local/lib/python3.10/dist-packages (from requests->transformers) (3.8)\n",
            "Requirement already satisfied: urllib3<3,>=1.21.1 in /usr/local/lib/python3.10/dist-packages (from requests->transformers) (2.0.7)\n",
            "Requirement already satisfied: certifi>=2017.4.17 in /usr/local/lib/python3.10/dist-packages (from requests->transformers) (2024.7.4)\n"
          ]
        }
      ]
    },
    {
      "cell_type": "code",
      "source": [
        "from transformers import pipeline\n",
        "summarizer = pipeline(\"summarization\", model=\"facebook/bart-large-cnn\")\n",
        "\n",
        "def bert_summarize(text, max_length=130, min_length=30):\n",
        "\n",
        "    summary = summarizer(text, max_length=max_length, min_length=min_length, do_sample=False)\n",
        "    return summary[0]['summary_text']\n",
        "\n",
        "text = \"\"\"\n",
        "Artificial Intelligence (AI) is a rapidly advancing field of computer science concerned with building smart machines capable of performing tasks that typically require human intelligence. AI is an interdisciplinary field, drawing on insights from mathematics, computer science, psychology, neuroscience, cognitive science, linguistics, operations research, economics, and many other disciplines. Research in AI has produced numerous advances in areas such as reasoning, knowledge representation, natural language processing, perception, and the ability to move and manipulate objects. AI can be categorized into narrow AI, which is designed for a specific task, and general AI, which has the ability to perform any intellectual task that a human can do. While narrow AI is already prevalent in various applications, general AI remains a long-term goal. AI has the potential to revolutionize industries, but it also raises ethical concerns regarding privacy, employment, and the impact on society.\n",
        "\"\"\"\n",
        "def print_summary_in_lines(summary):\n",
        "    sentences = summary.split('. ')\n",
        "    for sentence in sentences:\n",
        "        print(sentence.strip() + '.')\n",
        "summary = bert_summarize(text, max_length=50, min_length=25)\n",
        "print(\"Original Text Length:\", len(text.split()))\n",
        "print(\"Summary Text Length:\", len(summary.split()))\n",
        "print(\"\\nSummary:\\n\", summary)\n",
        "print_summary_in_lines(summary)\n"
      ],
      "metadata": {
        "id": "OvEsp2EGVNXe",
        "outputId": "9a8c2c80-da31-4364-cf6a-22adfda96c78",
        "colab": {
          "base_uri": "https://localhost:8080/"
        }
      },
      "execution_count": 9,
      "outputs": [
        {
          "output_type": "stream",
          "name": "stdout",
          "text": [
            "Original Text Length: 142\n",
            "Summary Text Length: 40\n",
            "\n",
            "Summary:\n",
            " Artificial Intelligence (AI) is a rapidly advancing field of computer science. It is concerned with building smart machines capable of performing tasks that typically require human intelligence. AI has the potential to revolutionize industries, but it also raises ethical concerns\n",
            "Artificial Intelligence (AI) is a rapidly advancing field of computer science.\n",
            "It is concerned with building smart machines capable of performing tasks that typically require human intelligence.\n",
            "AI has the potential to revolutionize industries, but it also raises ethical concerns.\n"
          ]
        }
      ]
    }
  ]
}